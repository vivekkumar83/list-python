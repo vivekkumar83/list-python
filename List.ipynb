{
 "cells": [
  {
   "cell_type": "markdown",
   "metadata": {},
   "source": [
    "# List:\n",
    "## --------------------------------------------------\n",
    "## Lists in python are ordered.\n",
    "## The elements of a list can be accessed by their indices.\n",
    "## Lists are mutable.\n",
    "## A list can store a number of various/different elements."
   ]
  },
  {
   "cell_type": "code",
   "execution_count": 1,
   "metadata": {},
   "outputs": [],
   "source": [
    "a = [1, 2.2, 'python']"
   ]
  },
  {
   "cell_type": "markdown",
   "metadata": {},
   "source": [
    "## A list can also have another list as an item. This is called a nested list."
   ]
  },
  {
   "cell_type": "code",
   "execution_count": 2,
   "metadata": {},
   "outputs": [],
   "source": [
    "my_list1 = [\"mouse\", [8, 4, 6], ['a']]"
   ]
  },
  {
   "cell_type": "markdown",
   "metadata": {},
   "source": [
    "## The syntax for declaring a one dimension list:\n",
    "## l = []\n",
    "## l = list()"
   ]
  },
  {
   "cell_type": "markdown",
   "metadata": {},
   "source": [
    "## List Index\n",
    "## We can use the index operator [] to access an element in a list. In Python, indexing starts          with 0 i.e index of the first element is 0. So, a list having 5 elements will have an index              from 0 to 4."
   ]
  },
  {
   "cell_type": "code",
   "execution_count": 4,
   "metadata": {},
   "outputs": [
    {
     "name": "stdout",
     "output_type": "stream",
     "text": [
      "h\n",
      "e\n",
      "o\n",
      "i\n",
      "1\n"
     ]
    }
   ],
   "source": [
    "# List indexing\n",
    "myList2 = ['h', 'e', 'l', 'l', 'o']\n",
    "\n",
    "print(myList2[0])\n",
    "\n",
    "print(myList2[1])\n",
    "\n",
    "print(myList2[4]\n",
    "\n",
    "# Error! The only integer that can be used for indexing\n",
    "# print(myList[4.0])"
   ]
  },
  {
   "cell_type": "code",
   "execution_count": 5,
   "metadata": {},
   "outputs": [
    {
     "name": "stdout",
     "output_type": "stream",
     "text": [
      "a\n",
      "5\n"
     ]
    }
   ],
   "source": [
    "n_list = [\"Happy\", [2, 0, 1, 5]]\n",
    "\n",
    "# Nested indexing\n",
    "print(n_list[0][1])\n",
    "\n",
    "print(n_list[1][3])"
   ]
  },
  {
   "cell_type": "markdown",
   "metadata": {},
   "source": [
    "## Negative indexing\n",
    "## Python allows negative indexing for its sequences. The index of -1 refers to the last item, -2 to the second last item, and so on."
   ]
  },
  {
   "cell_type": "code",
   "execution_count": 10,
   "metadata": {},
   "outputs": [
    {
     "name": "stdout",
     "output_type": "stream",
     "text": [
      "a\n",
      "n\n"
     ]
    }
   ],
   "source": [
    "# Negative indexing in lists\n",
    "my_list3 = ['n','i','n','j','a']\n",
    "print(my_list3[-1])\n",
    "print(my_list3[-5])"
   ]
  },
  {
   "cell_type": "markdown",
   "metadata": {},
   "source": [
    "## How to slice lists in Python\n",
    "## We can access a range of items in a list by using the slicing operator ':' (colon).\n",
    "## Lst[ Initial: End: IndexJump ]"
   ]
  },
  {
   "cell_type": "code",
   "execution_count": 11,
   "metadata": {},
   "outputs": [
    {
     "name": "stdout",
     "output_type": "stream",
     "text": [
      "['l', 'l', 'o']\n",
      "['h', 'e', 'l', 'l', 'o', 'n']\n",
      "['n', 'i', 'n', 'j', 'a', 's']\n",
      "['h', 'e', 'l', 'l', 'o', 'n', 'i', 'n', 'j', 'a', 's']\n"
     ]
    }
   ],
   "source": [
    "# List slicing in Python\n",
    "myList4 = ['h','e','l','l','o','n','i','n','j','a','s']\n",
    "\n",
    "# Elements 3rd to 5th\n",
    "print(myList4[2:5])\n",
    "\n",
    "# Elements from beginning to 4th index.\n",
    "print(myList4[:-5])\n",
    "\n",
    "# Elements 6th index to end.\n",
    "print(myList4[5:])\n",
    "\n",
    "# Elements from beginning to end.\n",
    "print(myList4[:])"
   ]
  },
  {
   "cell_type": "markdown",
   "metadata": {},
   "source": [
    "## Lists are mutable, i.e. their elements can be changed, unlike- strings or tuples.\n",
    "## We can use the assignment operator ‘=’ to change an item or a range of items."
   ]
  },
  {
   "cell_type": "code",
   "execution_count": 14,
   "metadata": {},
   "outputs": [
    {
     "name": "stdout",
     "output_type": "stream",
     "text": [
      "[1, 3, 5, 8]\n"
     ]
    }
   ],
   "source": [
    "# Change \n",
    "myList5 = [1, 3, 6, 8]\n",
    "\n",
    "# Change the 3rd elemet to 5    \n",
    "myList5[2] = 5            \n",
    "print(myList5)"
   ]
  },
  {
   "cell_type": "code",
   "execution_count": 15,
   "metadata": {},
   "outputs": [
    {
     "name": "stdout",
     "output_type": "stream",
     "text": [
      "[1, 3, 5, 7]\n",
      "[1, 3, 5, 7, 9, 11, 13]\n"
     ]
    }
   ],
   "source": [
    "# Appending and Extending lists in Python\n",
    "\n",
    "odd = [1, 3, 5]\n",
    "odd.append(7)\n",
    "print(odd)\n",
    "odd.extend([9, 11, 13])\n",
    "print(odd) "
   ]
  },
  {
   "cell_type": "code",
   "execution_count": 16,
   "metadata": {},
   "outputs": [
    {
     "name": "stdout",
     "output_type": "stream",
     "text": [
      "[1, 3, 5, 20, 2, 6]\n",
      "['ab', 'ab', 'ab']\n"
     ]
    }
   ],
   "source": [
    "# Concatenating and repeating lists\n",
    "\n",
    "myList6 = [1, 3, 5]\n",
    "print(myList6 + [20, 2, 6])\n",
    "\n",
    "print([\"ab\"] * 3)      "
   ]
  },
  {
   "cell_type": "markdown",
   "metadata": {},
   "source": [
    "## Delete/Remove List Elements"
   ]
  },
  {
   "cell_type": "code",
   "execution_count": 18,
   "metadata": {},
   "outputs": [
    {
     "name": "stdout",
     "output_type": "stream",
     "text": [
      "['n', 'i', 'j', 'a']\n",
      "['n', 'a']\n"
     ]
    }
   ],
   "source": [
    "# Deleting list items\n",
    "myList7 = ['n', 'i', 'n', 'j', 'a']\n",
    "\n",
    "# We can delete one item as\n",
    "del myList7[2]\n",
    "print(myList7)\n",
    "\n",
    "# Deleting multiple items in list\n",
    "del myList7[1:3]\n",
    "print(myList7)\n",
    "\n",
    "# Deleting an entire list\n",
    "del myList7\n",
    "\n",
    "# Error: List not defined\n",
    "#print(myList)"
   ]
  },
  {
   "cell_type": "markdown",
   "metadata": {},
   "source": [
    "## We can use the remove() method to remove the given item or the pop() method to remove        an item at the given index.\n",
    "## The pop() method removes and returns the last item if the index is not provided\n",
    "## We can also use the clear() method to empty a list."
   ]
  },
  {
   "cell_type": "code",
   "execution_count": 20,
   "metadata": {},
   "outputs": [
    {
     "name": "stdout",
     "output_type": "stream",
     "text": [
      "['n', 'n', 'j', 'a']\n",
      "a\n",
      "['n', 'n', 'j']\n",
      "[]\n"
     ]
    }
   ],
   "source": [
    "myList8 = ['n', 'i', 'n', 'j', 'a']\n",
    "myList8.remove('i')\n",
    "\n",
    "print(myList8)\n",
    "\n",
    "print(myList8.pop())\n",
    "\n",
    "print(myList8)\n",
    "\n",
    "myList8.clear()\n",
    "\n",
    "# Output: []\n",
    "print(myList8)"
   ]
  },
  {
   "cell_type": "code",
   "execution_count": 21,
   "metadata": {},
   "outputs": [
    {
     "name": "stdout",
     "output_type": "stream",
     "text": [
      "1\n",
      "2\n",
      "[0, 1, 3, 4, 6, 8, 8]\n",
      "[8, 8, 6, 4, 3, 1, 0]\n"
     ]
    }
   ],
   "source": [
    "# Python list methods\n",
    "my_list = [3, 8, 1, 6, 0, 8, 4]\n",
    "\n",
    "print(my_list.index(8))\n",
    "# Output: 1\n",
    "\n",
    "\n",
    "print(my_list.count(8))\n",
    "# Output: 2\n",
    "\n",
    "my_list.sort()\n",
    "print(my_list)\n",
    "# Output: [0, 1, 3, 4, 6, 8, 8]\n",
    "\n",
    "my_list.reverse()\n",
    "print(my_list)\n",
    "# Output: [8, 8, 6, 4, 3, 1, 0]"
   ]
  },
  {
   "cell_type": "code",
   "execution_count": null,
   "metadata": {},
   "outputs": [],
   "source": []
  }
 ],
 "metadata": {
  "kernelspec": {
   "display_name": "Python 3",
   "language": "python",
   "name": "python3"
  },
  "language_info": {
   "codemirror_mode": {
    "name": "ipython",
    "version": 3
   },
   "file_extension": ".py",
   "mimetype": "text/x-python",
   "name": "python",
   "nbconvert_exporter": "python",
   "pygments_lexer": "ipython3",
   "version": "3.8.5"
  }
 },
 "nbformat": 4,
 "nbformat_minor": 4
}
